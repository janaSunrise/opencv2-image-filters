{
 "cells": [
  {
   "cell_type": "code",
   "execution_count": 8,
   "id": "dental-storm",
   "metadata": {},
   "outputs": [],
   "source": [
    "import copy\n",
    "\n",
    "import cv2\n",
    "import scipy"
   ]
  },
  {
   "cell_type": "code",
   "execution_count": 9,
   "id": "opening-buddy",
   "metadata": {},
   "outputs": [
    {
     "data": {
      "text/plain": [
       "True"
      ]
     },
     "execution_count": 9,
     "metadata": {},
     "output_type": "execute_result"
    }
   ],
   "source": [
    "image = cv2.imread(\"../cat.jpg\")\n",
    "\n",
    "image is not None"
   ]
  },
  {
   "cell_type": "code",
   "execution_count": 10,
   "id": "vocational-communications",
   "metadata": {},
   "outputs": [],
   "source": [
    "def blur(img):\n",
    "    blurred_image = cv2.gaussianBlur(copy.deepcopy(img))\n",
    "    return blurred_image"
   ]
  },
  {
   "cell_type": "code",
   "execution_count": 9,
   "id": "stupid-broadway",
   "metadata": {},
   "outputs": [],
   "source": [
    "def sketch(img):\n",
    "    img_gray = cv2.cvtColor(img, cv2.COLOR_BGR2GRAY)\n",
    "    img_invert = cv2.bitwise_not(img_gray)\n",
    "    img_smoothing = cv2.GaussianBlur(img_invert, (21, 21),sigmaX=0, sigmaY=0)\n",
    "\n",
    "    def dodge(x, y):\n",
    "        return cv2.divide(x, 255 - y, scale=256)\n",
    "\n",
    "    final_img = dodge(img_gray, img_smoothing)\n",
    "    return final_img"
   ]
  },
  {
   "cell_type": "code",
   "execution_count": 1,
   "id": "liked-burst",
   "metadata": {},
   "outputs": [],
   "source": [
    "def sharpen(image):\n",
    "    kernel = np.array([[-1, -1, -1], [-1, 9, -1], [-1, -1, -1]])\n",
    "    return cv2.filter2D(image, -1, kernel)"
   ]
  },
  {
   "cell_type": "code",
   "execution_count": 2,
   "id": "prescription-daniel",
   "metadata": {},
   "outputs": [],
   "source": [
    "def sepia(image):\n",
    "    kernel = np.array([[0.272, 0.534, 0.131],\n",
    "                       [0.349, 0.686, 0.168],\n",
    "                       [0.393, 0.769, 0.189]])\n",
    "    return cv2.filter2D(image, -1, kernel)"
   ]
  },
  {
   "cell_type": "code",
   "execution_count": 3,
   "id": "narrow-choice",
   "metadata": {},
   "outputs": [],
   "source": [
    "def gaussianBlur(image):\n",
    "    return cv2.GaussianBlur(image, (35, 35), 0)"
   ]
  },
  {
   "cell_type": "code",
   "execution_count": 4,
   "id": "furnished-emphasis",
   "metadata": {},
   "outputs": [],
   "source": [
    "def emboss(image):\n",
    "    kernel = np.array([[0,-1,-1],\n",
    "                       [1,0,-1],\n",
    "                       [1,1,0]])\n",
    "    return cv2.filter2D(image, -1, kernel)"
   ]
  },
  {
   "cell_type": "code",
   "execution_count": 5,
   "id": "documentary-league",
   "metadata": {},
   "outputs": [],
   "source": [
    "def brightnessControl(image, level):\n",
    "    return cv2.convertScaleAbs(image, beta=level)"
   ]
  },
  {
   "cell_type": "code",
   "execution_count": 6,
   "id": "endless-texas",
   "metadata": {},
   "outputs": [],
   "source": [
    "def spreadLookupTable(x, y):\n",
    "  spline = UnivariateSpline(x, y)\n",
    "  return spline(range(256))\n",
    "\n",
    "def warmImage(image):\n",
    "    increaseLookupTable = spreadLookupTable([0, 64, 128, 256], [0, 80, 160, 256])\n",
    "    decreaseLookupTable = spreadLookupTable([0, 64, 128, 256], [0, 50, 100, 256])\n",
    "\n",
    "    red_channel, green_channel, blue_channel = cv2.split(image)\n",
    "    red_channel = cv2.LUT(red_channel, increaseLookupTable).astype(np.uint8)\n",
    "    blue_channel = cv2.LUT(blue_channel, decreaseLookupTable).astype(np.uint8)\n",
    "\n",
    "    return cv2.merge((red_channel, green_channel, blue_channel))\n",
    "\n",
    "def coldImage(image):\n",
    "    increaseLookupTable = spreadLookupTable([0, 64, 128, 256], [0, 80, 160, 256])\n",
    "    decreaseLookupTable = spreadLookupTable([0, 64, 128, 256], [0, 50, 100, 256])\n",
    "\n",
    "    red_channel, green_channel, blue_channel = cv2.split(image)\n",
    "    red_channel = cv2.LUT(red_channel, decreaseLookupTable).astype(np.uint8)\n",
    "    blue_channel = cv2.LUT(blue_channel, increaseLookupTable).astype(np.uint8)\n",
    "\n",
    "    return cv2.merge((red_channel, green_channel, blue_channel))"
   ]
  },
  {
   "cell_type": "code",
   "execution_count": 11,
   "id": "daily-overview",
   "metadata": {},
   "outputs": [
    {
     "data": {
      "text/plain": [
       "True"
      ]
     },
     "execution_count": 11,
     "metadata": {},
     "output_type": "execute_result"
    }
   ],
   "source": [
    "cv2.imwrite(\"blurred.jpg\", gaussianBlur(image))"
   ]
  },
  {
   "cell_type": "code",
   "execution_count": null,
   "id": "instructional-pound",
   "metadata": {},
   "outputs": [],
   "source": []
  }
 ],
 "metadata": {
  "kernelspec": {
   "display_name": "Python 3",
   "language": "python",
   "name": "python3"
  },
  "language_info": {
   "codemirror_mode": {
    "name": "ipython",
    "version": 3
   },
   "file_extension": ".py",
   "mimetype": "text/x-python",
   "name": "python",
   "nbconvert_exporter": "python",
   "pygments_lexer": "ipython3",
   "version": "3.8.5"
  }
 },
 "nbformat": 4,
 "nbformat_minor": 5
}
