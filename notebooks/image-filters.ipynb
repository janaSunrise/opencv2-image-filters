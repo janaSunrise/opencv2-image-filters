{
 "cells": [
  {
   "cell_type": "code",
   "execution_count": 21,
   "id": "dental-storm",
   "metadata": {},
   "outputs": [],
   "source": [
    "import copy\n",
    "\n",
    "import cv2\n",
    "import numpy as np\n",
    "import scipy\n",
    "from scipy.interpolate import UnivariateSpline"
   ]
  },
  {
   "cell_type": "code",
   "execution_count": 32,
   "id": "formed-loading",
   "metadata": {},
   "outputs": [],
   "source": [
    "def spread_lookup_table(x, y):\n",
    "  spline = UnivariateSpline(x, y)\n",
    "  return spline(range(256))\n",
    "\n",
    "def create_loopup_tables():\n",
    "    increase_lookup_table = spread_lookup_table([0, 64, 128, 256], [0, 80, 160, 256])\n",
    "    decrease_lookup_table = spread_lookup_table([0, 64, 128, 256], [0, 50, 100, 256])\n",
    "    \n",
    "    return increase_lookup_table, decrease_lookup_table"
   ]
  },
  {
   "cell_type": "code",
   "execution_count": 33,
   "id": "opening-buddy",
   "metadata": {},
   "outputs": [
    {
     "data": {
      "text/plain": [
       "True"
      ]
     },
     "execution_count": 33,
     "metadata": {},
     "output_type": "execute_result"
    }
   ],
   "source": [
    "image = cv2.imread(\"../cat.jpg\")\n",
    "\n",
    "image is not None"
   ]
  },
  {
   "cell_type": "code",
   "execution_count": 84,
   "id": "diagnostic-guess",
   "metadata": {},
   "outputs": [],
   "source": [
    "def black_white(image):\n",
    "    img = copy.deepcopy(image)\n",
    "\n",
    "    output = cv2.cvtColor(img, cv2.COLOR_BGR2GRAY)\n",
    "    _, output = cv2.threshold(output, 125, 255, cv2.THRESH_BINARY)\n",
    "    output = cv2.cvtColor(output, cv2.COLOR_GRAY2BGR)\n",
    "\n",
    "    return output\n",
    "\n",
    "\n",
    "def invert(image):\n",
    "    output = cv2.bitwise_not(copy.deepcopy(image))\n",
    "    return output"
   ]
  },
  {
   "cell_type": "code",
   "execution_count": 34,
   "id": "vocational-communications",
   "metadata": {},
   "outputs": [],
   "source": [
    "def blur(img):\n",
    "    blurred_image = cv2.blur(copy.deepcopy(img))\n",
    "    return blurred_image"
   ]
  },
  {
   "cell_type": "code",
   "execution_count": 60,
   "id": "stupid-broadway",
   "metadata": {},
   "outputs": [],
   "source": [
    "def sketch(img, kernel_size=21):\n",
    "    img_gray = cv2.cvtColor(img, cv2.COLOR_BGR2GRAY)\n",
    "    img_invert = cv2.bitwise_not(img_gray)\n",
    "    img_smoothing = cv2.GaussianBlur(img_invert, (kernel_size, kernel_size), sigmaX=0, sigmaY=0)\n",
    "\n",
    "    def dodge(x, y):\n",
    "        return cv2.divide(x, 255 - y, scale=256)\n",
    "\n",
    "    output = dodge(img_gray, img_smoothing)\n",
    "    return cv2.cvtColor(output, cv2.COLOR_GRAY2BGR)\n",
    "\n",
    "def sketch_with_edge_detection(img, kernel_size=21):\n",
    "    img = np.copy(img)\n",
    "\n",
    "    img_gray = cv2.cvtColor(img, cv2.COLOR_BGR2GRAY)\n",
    "    img_gray_blur = cv2.GaussianBlur(img_gray, (3, 3), 0)\n",
    "    edges = cv2.Laplacian(img_gray_blur, cv2.CV_8U, ksize=5)\n",
    "    edges = 255 - edges\n",
    "\n",
    "    ret, edge_mask = cv2.threshold(edges, 150, 255, cv2.THRESH_BINARY)\n",
    "    return cv2.cvtColor(edge_mask, cv2.COLOR_GRAY2BGR)"
   ]
  },
  {
   "cell_type": "code",
   "execution_count": 36,
   "id": "liked-burst",
   "metadata": {},
   "outputs": [],
   "source": [
    "def sharpen(image):\n",
    "    kernel = np.array([[-1, -1, -1], [-1, 9, -1], [-1, -1, -1]])\n",
    "    return cv2.filter2D(image, -1, kernel)"
   ]
  },
  {
   "cell_type": "code",
   "execution_count": 37,
   "id": "prescription-daniel",
   "metadata": {},
   "outputs": [],
   "source": [
    "def sepia(image):\n",
    "    kernel = np.array([[0.272, 0.534, 0.131],\n",
    "                       [0.349, 0.686, 0.168],\n",
    "                       [0.393, 0.769, 0.189]])\n",
    "    return cv2.filter2D(image, -1, kernel)"
   ]
  },
  {
   "cell_type": "code",
   "execution_count": 38,
   "id": "narrow-choice",
   "metadata": {},
   "outputs": [],
   "source": [
    "def gaussian_blur(image):\n",
    "    return cv2.GaussianBlur(image, (35, 35), 0)"
   ]
  },
  {
   "cell_type": "code",
   "execution_count": 39,
   "id": "furnished-emphasis",
   "metadata": {},
   "outputs": [],
   "source": [
    "def emboss(image):\n",
    "    kernel = np.array([[0,-1,-1],\n",
    "                       [1,0,-1],\n",
    "                       [1,1,0]])\n",
    "    return cv2.filter2D(image, -1, kernel)"
   ]
  },
  {
   "cell_type": "code",
   "execution_count": 40,
   "id": "documentary-league",
   "metadata": {},
   "outputs": [],
   "source": [
    "def brightness_control(image, level):\n",
    "    return cv2.convertScaleAbs(image, beta=level)"
   ]
  },
  {
   "cell_type": "code",
   "execution_count": 41,
   "id": "thorough-fabric",
   "metadata": {},
   "outputs": [],
   "source": [
    "def image_2d_convolution(image):\n",
    "    kernel = np.ones((5, 5), np.float32) / 25\n",
    "    return cv2.filter2D(img, -1, kernel)"
   ]
  },
  {
   "cell_type": "code",
   "execution_count": 42,
   "id": "separate-railway",
   "metadata": {},
   "outputs": [],
   "source": [
    "def median_filtering(image):\n",
    "    return cv2.medianBlur(image, 5)"
   ]
  },
  {
   "cell_type": "code",
   "execution_count": 68,
   "id": "included-hollywood",
   "metadata": {},
   "outputs": [],
   "source": [
    "def vignette(image, vignette_scale):\n",
    "    img = np.copy(image)\n",
    "    img = np.float32(img)\n",
    "\n",
    "    rows, cols = img.shape[:2]\n",
    "\n",
    "    k = np.min(img.shape[:2]) / vignette_scale\n",
    "    kernel_x = cv2.getGaussianKernel(cols, k)\n",
    "    kernel_y = cv2.getGaussianKernel(rows, k)\n",
    "    kernel = kernel_y * kernel_x.T\n",
    "\n",
    "    mask = 255 * kernel / np.linalg.norm(kernel)\n",
    "    mask = cv2.GaussianBlur(mask, (51, 51), 0)\n",
    "\n",
    "    img[:, :, 0] += img[:, :, 0] * mask\n",
    "    img[:, :, 1] += img[:, :, 1] * mask\n",
    "    img[:, :, 2] += img[:, :, 2] * mask\n",
    "\n",
    "    img = np.clip(img / 2, 0, 255)\n",
    "    return np.uint8(img)"
   ]
  },
  {
   "cell_type": "code",
   "execution_count": 64,
   "id": "written-nerve",
   "metadata": {},
   "outputs": [],
   "source": [
    "def contrast(image, scale):\n",
    "    img = np.copy(image)\n",
    "\n",
    "    ycb_img = cv2.cvtColor(img, cv2.COLOR_BGR2YCrCb)\n",
    "    ycb_img = np.float32(ycb_img)\n",
    "\n",
    "    y_channel, Cr, Cb = cv2.split(ycb_img)\n",
    "    y_channel = np.clip(y_channel * scale, 0, 255)\n",
    "\n",
    "    ycb_img = np.uint8(cv2.merge([y_channel, Cr, Cb]))\n",
    "    output = cv2.cvtColor(ycb_img, cv2.COLOR_YCrCb2BGR)\n",
    "    return output"
   ]
  },
  {
   "cell_type": "code",
   "execution_count": 74,
   "id": "bright-empire",
   "metadata": {},
   "outputs": [],
   "source": [
    "def saturation(image, saturation_scale=1):\n",
    "    img = np.copy(image)\n",
    "\n",
    "    hsv_img = cv2.cvtColor(img, cv2.COLOR_BGR2HSV)\n",
    "    hsv_img = np.float32(hsv_img)\n",
    "\n",
    "    H, S, V = cv2.split(hsv_img)\n",
    "    S = np.clip(S * saturation_scale, 0, 255)\n",
    "    hsv_img = np.uint8(cv2.merge([H, S, V]))\n",
    "\n",
    "    output = cv2.cvtColor(hsv_img, cv2.COLOR_HSV2BGR)\n",
    "    return output"
   ]
  },
  {
   "cell_type": "code",
   "execution_count": 43,
   "id": "endless-texas",
   "metadata": {},
   "outputs": [],
   "source": [
    "def warm_image(image):    \n",
    "    increase_lookup_table, decrease_lookup_table = create_loopup_tables()\n",
    "\n",
    "    red_channel, green_channel, blue_channel = cv2.split(image)\n",
    "    red_channel = cv2.LUT(red_channel, decrease_lookup_table).astype(np.uint8)\n",
    "    blue_channel = cv2.LUT(blue_channel, increase_lookup_table).astype(np.uint8)\n",
    "\n",
    "    return cv2.merge((red_channel, green_channel, blue_channel))\n",
    "\n",
    "def cold_image(image):\n",
    "    increase_lookup_table, decrease_lookup_table = create_loopup_tables()\n",
    "\n",
    "    red_channel, green_channel, blue_channel = cv2.split(image)\n",
    "    red_channel = cv2.LUT(red_channel, increase_lookup_table).astype(np.uint8)\n",
    "    blue_channel = cv2.LUT(blue_channel, decrease_lookup_table).astype(np.uint8)\n",
    "\n",
    "    return cv2.merge((red_channel, green_channel, blue_channel))"
   ]
  },
  {
   "cell_type": "code",
   "execution_count": 44,
   "id": "whole-shepherd",
   "metadata": {},
   "outputs": [],
   "source": [
    "def cartoon(img):\n",
    "    img = np.copy(img)\n",
    "\n",
    "    img_gray = cv2.cvtColor(img, cv2.COLOR_BGR2GRAY)\n",
    "    img_gray = cv2.GaussianBlur(img_gray, (3, 3), 0)\n",
    "\n",
    "    edges = cv2.Laplacian(img_gray, cv2.CV_8U, ksize=5)\n",
    "    edges = 255 - edges\n",
    "    ret, edge_mask = cv2.threshold(edges, 150, 255, cv2.THRESH_BINARY)\n",
    "\n",
    "    img_bilateral = cv2.edgePreservingFilter(img, flags=2, sigma_s=50, sigma_r=0.4)\n",
    "\n",
    "    output = np.zeros(img_gray.shape)\n",
    "    output = cv2.bitwise_and(img_bilateral, img_bilateral, mask=edge_mask)\n",
    "\n",
    "    return output"
   ]
  },
  {
   "cell_type": "code",
   "execution_count": 54,
   "id": "greater-wednesday",
   "metadata": {},
   "outputs": [],
   "source": [
    "def cartoon_2(image):\n",
    "    img = image.copy()\n",
    "\n",
    "    for _ in range(2):\n",
    "        img = cv2.pyrDown(img)\n",
    "\n",
    "    for _ in range(7):\n",
    "        img = cv2.bilateralFilter(img, 9, 9, 7)\n",
    "\n",
    "    for _ in range(2):\n",
    "        img = cv2.pyrUp(img)\n",
    "\n",
    "    img_gray = cv2.cvtColor(image, cv2.COLOR_BGR2GRAY)\n",
    "    img_blur = cv2.medianBlur(img_gray, 7)\n",
    "    img_edge = cv2.adaptiveThreshold(img_blur, 255, cv2.ADAPTIVE_THRESH_MEAN_C, cv2.THRESH_BINARY, 9, 2)\n",
    "    img_edge = cv2.cvtColor(img_edge, cv2.COLOR_GRAY2BGR)\n",
    "\n",
    "    output = cv2.bitwise_and(img, img_edge)\n",
    "    return output"
   ]
  },
  {
   "cell_type": "code",
   "execution_count": 77,
   "id": "intermediate-lightning",
   "metadata": {},
   "outputs": [],
   "source": [
    "def moon(image):\n",
    "    img = np.copy(image)\n",
    "    origin = np.array([0, 15, 30, 50, 70, 90, 120, 160, 180, 210, 255])\n",
    "    _curve = np.array([0, 0, 5, 15, 60, 110, 150, 190, 210, 230, 255])\n",
    "\n",
    "    full_range = np.arange(0, 256)\n",
    "\n",
    "    _LUT = np.interp(full_range, origin, _curve)\n",
    "\n",
    "    lab_img = cv2.cvtColor(img, cv2.COLOR_BGR2LAB)\n",
    "    lab_img[:, :, 0] = cv2.LUT(lab_img[:, :, 0], _LUT)\n",
    "\n",
    "    img = cv2.cvtColor(lab_img, cv2.COLOR_LAB2BGR)\n",
    "    img = saturation(img, 0.01)\n",
    "    return img"
   ]
  },
  {
   "cell_type": "code",
   "execution_count": 28,
   "id": "daily-overview",
   "metadata": {},
   "outputs": [
    {
     "data": {
      "text/plain": [
       "True"
      ]
     },
     "execution_count": 28,
     "metadata": {},
     "output_type": "execute_result"
    }
   ],
   "source": [
    "cv2.imwrite(\"blurred.jpg\", gaussian_blur(image))"
   ]
  },
  {
   "cell_type": "code",
   "execution_count": 29,
   "id": "instructional-pound",
   "metadata": {},
   "outputs": [
    {
     "data": {
      "text/plain": [
       "True"
      ]
     },
     "execution_count": 29,
     "metadata": {},
     "output_type": "execute_result"
    }
   ],
   "source": [
    "cv2.imwrite(\"bright.jpg\", brightness_control(image, level=10))"
   ]
  },
  {
   "cell_type": "code",
   "execution_count": 30,
   "id": "moral-locking",
   "metadata": {},
   "outputs": [
    {
     "data": {
      "text/plain": [
       "True"
      ]
     },
     "execution_count": 30,
     "metadata": {},
     "output_type": "execute_result"
    }
   ],
   "source": [
    "cv2.imwrite(\"warm.jpg\", warm_image(image))"
   ]
  },
  {
   "cell_type": "code",
   "execution_count": 31,
   "id": "through-joyce",
   "metadata": {},
   "outputs": [
    {
     "data": {
      "text/plain": [
       "True"
      ]
     },
     "execution_count": 31,
     "metadata": {},
     "output_type": "execute_result"
    }
   ],
   "source": [
    "cv2.imwrite(\"cold.jpg\", cold_image(image))"
   ]
  },
  {
   "cell_type": "code",
   "execution_count": 45,
   "id": "finite-madness",
   "metadata": {},
   "outputs": [
    {
     "data": {
      "text/plain": [
       "True"
      ]
     },
     "execution_count": 45,
     "metadata": {},
     "output_type": "execute_result"
    }
   ],
   "source": [
    "cv2.imwrite(\"cartoon.jpg\", cartoon(image))"
   ]
  },
  {
   "cell_type": "code",
   "execution_count": 59,
   "id": "incredible-operations",
   "metadata": {},
   "outputs": [
    {
     "data": {
      "text/plain": [
       "True"
      ]
     },
     "execution_count": 59,
     "metadata": {},
     "output_type": "execute_result"
    }
   ],
   "source": [
    "cv2.imwrite(\"sketch.jpg\", sketch(image))"
   ]
  },
  {
   "cell_type": "code",
   "execution_count": 61,
   "id": "intended-tissue",
   "metadata": {},
   "outputs": [
    {
     "data": {
      "text/plain": [
       "True"
      ]
     },
     "execution_count": 61,
     "metadata": {},
     "output_type": "execute_result"
    }
   ],
   "source": [
    "cv2.imwrite(\"sketch-edge.jpg\", sketch_with_edge_detection(image))"
   ]
  },
  {
   "cell_type": "code",
   "execution_count": 67,
   "id": "analyzed-sweet",
   "metadata": {},
   "outputs": [
    {
     "data": {
      "text/plain": [
       "True"
      ]
     },
     "execution_count": 67,
     "metadata": {},
     "output_type": "execute_result"
    }
   ],
   "source": [
    "cv2.imwrite(\"contrast.jpg\", contrast(image, 2))"
   ]
  },
  {
   "cell_type": "code",
   "execution_count": 69,
   "id": "marked-foster",
   "metadata": {},
   "outputs": [
    {
     "data": {
      "text/plain": [
       "True"
      ]
     },
     "execution_count": 69,
     "metadata": {},
     "output_type": "execute_result"
    }
   ],
   "source": [
    "cv2.imwrite(\"vignette.jpg\", vignette(image, 2))"
   ]
  },
  {
   "cell_type": "code",
   "execution_count": 76,
   "id": "amateur-shame",
   "metadata": {},
   "outputs": [
    {
     "data": {
      "text/plain": [
       "True"
      ]
     },
     "execution_count": 76,
     "metadata": {},
     "output_type": "execute_result"
    }
   ],
   "source": [
    "cv2.imwrite(\"saturated.jpg\", saturation(image, 3))"
   ]
  },
  {
   "cell_type": "code",
   "execution_count": 78,
   "id": "metropolitan-interference",
   "metadata": {},
   "outputs": [
    {
     "data": {
      "text/plain": [
       "True"
      ]
     },
     "execution_count": 78,
     "metadata": {},
     "output_type": "execute_result"
    }
   ],
   "source": [
    "cv2.imwrite(\"moon.jpg\", moon(image))"
   ]
  },
  {
   "cell_type": "code",
   "execution_count": 83,
   "id": "gorgeous-defeat",
   "metadata": {},
   "outputs": [
    {
     "data": {
      "text/plain": [
       "True"
      ]
     },
     "execution_count": 83,
     "metadata": {},
     "output_type": "execute_result"
    }
   ],
   "source": [
    "cv2.imwrite(\"bw.jpg\", black_white(image))"
   ]
  },
  {
   "cell_type": "code",
   "execution_count": 85,
   "id": "documentary-universal",
   "metadata": {},
   "outputs": [
    {
     "data": {
      "text/plain": [
       "True"
      ]
     },
     "execution_count": 85,
     "metadata": {},
     "output_type": "execute_result"
    }
   ],
   "source": [
    "cv2.imwrite(\"invert.jpg\", invert(image))"
   ]
  },
  {
   "cell_type": "code",
   "execution_count": null,
   "id": "amino-attack",
   "metadata": {},
   "outputs": [],
   "source": []
  }
 ],
 "metadata": {
  "kernelspec": {
   "display_name": "Python 3",
   "language": "python",
   "name": "python3"
  },
  "language_info": {
   "codemirror_mode": {
    "name": "ipython",
    "version": 3
   },
   "file_extension": ".py",
   "mimetype": "text/x-python",
   "name": "python",
   "nbconvert_exporter": "python",
   "pygments_lexer": "ipython3",
   "version": "3.8.5"
  }
 },
 "nbformat": 4,
 "nbformat_minor": 5
}
